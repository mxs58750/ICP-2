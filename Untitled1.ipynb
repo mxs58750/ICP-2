{
  "nbformat": 4,
  "nbformat_minor": 0,
  "metadata": {
    "colab": {
      "provenance": [],
      "authorship_tag": "ABX9TyN/QrfSJEP4V1Y1nPrxKGpr",
      "include_colab_link": true
    },
    "kernelspec": {
      "name": "python3",
      "display_name": "Python 3"
    },
    "language_info": {
      "name": "python"
    }
  },
  "cells": [
    {
      "cell_type": "markdown",
      "metadata": {
        "id": "view-in-github",
        "colab_type": "text"
      },
      "source": [
        "<a href=\"https://colab.research.google.com/github/mxs58750/ICP-2/blob/main/Untitled1.ipynb\" target=\"_parent\"><img src=\"https://colab.research.google.com/assets/colab-badge.svg\" alt=\"Open In Colab\"/></a>"
      ]
    },
    {
      "cell_type": "code",
      "execution_count": 1,
      "metadata": {
        "colab": {
          "base_uri": "https://localhost:8080/"
        },
        "id": "xi-8BqHy6kNE",
        "outputId": "c7baa91a-cf0d-41d0-c26d-5fc759f3e862"
      },
      "outputs": [
        {
          "output_type": "stream",
          "name": "stdout",
          "text": [
            "Your First Name : Madhu Kumar\n",
            "Your Last Name : Sunkaraboina\n",
            "Madhu KumarSunkaraboina\n"
          ]
        }
      ],
      "source": [
        "First_name= (input('Your First Name : '))\n",
        "last_name = (input('Your Last Name : '))\n",
        "Full_Name = print(First_name + last_name)"
      ]
    },
    {
      "cell_type": "code",
      "source": [
        "def string_alternative(full_name):\n",
        "    return full_name[::2]\n",
        "result = string_alternative(\"Good evening\")\n",
        "print(result)"
      ],
      "metadata": {
        "colab": {
          "base_uri": "https://localhost:8080/"
        },
        "id": "vpP1Ec8w7_9V",
        "outputId": "2af5352b-ecea-4dbe-db6c-7d212b70c01a"
      },
      "execution_count": 2,
      "outputs": [
        {
          "output_type": "stream",
          "name": "stdout",
          "text": [
            "Go vnn\n"
          ]
        }
      ]
    },
    {
      "cell_type": "code",
      "source": [
        "L1 = list(map(float,input().split()))\n",
        "L2=[]\n",
        "for x in L1:\n",
        "  x=x*2.54\n",
        "  L2.append(x)\n",
        "print(L2)\n"
      ],
      "metadata": {
        "colab": {
          "base_uri": "https://localhost:8080/"
        },
        "id": "eNNERnXC9ddY",
        "outputId": "db58aee2-4fc7-4363-9e6e-c5b353de4704"
      },
      "execution_count": null,
      "outputs": [
        {
          "output_type": "stream",
          "name": "stdout",
          "text": [
            "150\n",
            "[381.0]\n"
          ]
        }
      ]
    },
    {
      "cell_type": "code",
      "source": [
        "L1=list(map(float,input().split()))\n",
        "L2=[x*2.54 for x in L1]\n",
        "print(L2)"
      ],
      "metadata": {
        "colab": {
          "base_uri": "https://localhost:8080/"
        },
        "id": "aqaJ69zV-bKy",
        "outputId": "755bc161-b115-4669-bfb0-0d4f7eb172f1"
      },
      "execution_count": null,
      "outputs": [
        {
          "output_type": "stream",
          "name": "stdout",
          "text": [
            "150 155 145 148\n",
            "[381.0, 393.7, 368.3, 375.92]\n"
          ]
        }
      ]
    },
    {
      "cell_type": "code",
      "source": [
        "file1 = open('/content/input.txt', 'r')\n",
        "counts = dict()\n",
        "data = file1.read()\n",
        "words = data.split()\n",
        "for word in words:\n",
        "  if word in counts:\n",
        "    counts[word] += 1\n",
        "  else:\n",
        "    counts[word] = 1\n",
        "print(counts)\n",
        "\n",
        "\n",
        "f= open('output.txt', 'w')\n",
        "f.write(data)\n",
        "f.write(\"\\nword_count:\\n\")\n",
        "for key, value in counts.items():\n",
        "  f.write(f\"{key}: {value}\\n\")\n",
        "f.close()"
      ],
      "metadata": {
        "colab": {
          "base_uri": "https://localhost:8080/"
        },
        "id": "91P8dSgRAGPT",
        "outputId": "8425f2f9-b202-4c9d-f000-495fe18a2c0f"
      },
      "execution_count": null,
      "outputs": [
        {
          "output_type": "stream",
          "name": "stdout",
          "text": [
            "{'Python': 1, 'Course': 2, 'Deep': 1, 'Learning': 1}\n"
          ]
        }
      ]
    }
  ]
}